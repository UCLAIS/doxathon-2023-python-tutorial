{
 "cells": [
  {
   "attachments": {},
   "cell_type": "markdown",
   "metadata": {},
   "source": [
    "# UCLAIS Python Tutorial: An introduction to Python\n",
    "##### _Pre-DOXATHON Edition_\n",
    "\n",
    "Python is a popular high-level, dynamically typed, general-purpose programming language that supports a variety of different programming paradigms. In particular, Python has been heavily adopted by the machine learning community and is blessed with a large ecosystem of tools and libraries for artificial intelligence and scientific computing more broadly.\n",
    "\n",
    "**This repository contains a collection of resources for beginners to learn the basics of Python in preparation for [DOXATHON 2023](https://doxaai.com/doxathon).**\n",
    "\n",
    "Some content has been adapted from the second tutorial ([Introduction to Python](https://github.com/UCLAIS/ml-tutorials-season-3/blob/main/week-2/1%20-%20Introduction%20to%20Python.ipynb)) of the UCL AI Society Machine Learning Tutorial Series.\n",
    "\n",
    "## The Zen of Python, by Tim Peters\n",
    "\n",
    "Before diving into Python syntax, it is worth mentioning that Python as a programming language was designed with a number of guiding principles codified in the poem _The Zen of Python_ by Tim Peters. This code philosophy continues to influence the design and implementation of Python code today, and it is worth bearing in mind."
   ]
  },
  {
   "cell_type": "code",
   "execution_count": null,
   "metadata": {},
   "outputs": [],
   "source": [
    "import this"
   ]
  },
  {
   "cell_type": "markdown",
   "metadata": {},
   "source": [
    "## Basic Syntax\n",
    "\n",
    "### Comments"
   ]
  },
  {
   "cell_type": "code",
   "execution_count": null,
   "metadata": {},
   "outputs": [],
   "source": [
    "# Single-line comments look like this!\n",
    "# Everything after the '#' character on the same line is ignored.\n",
    "\n",
    "\"\"\"\n",
    "    Multi-line strings look like this. When freestanding like this,\n",
    "    they are typically used for documentation.\n",
    "\"\"\""
   ]
  },
  {
   "cell_type": "markdown",
   "metadata": {},
   "source": [
    "## Simple Built-in Types\n",
    "\n",
    "### Numeric Types"
   ]
  },
  {
   "cell_type": "code",
   "execution_count": null,
   "metadata": {},
   "outputs": [],
   "source": [
    "# Integers (Python integers have unlimited precision!)\n",
    "\n",
    "4       # => 4\n",
    "\n",
    "# Floats (IEEE 754 double-precision floating-point numbers)\n",
    "\n",
    "3.14    \n",
    "\n",
    "# Complex numbers\n",
    "\n",
    "4 + 3j\n",
    "\n",
    "# Arithmetic operations\n",
    "\n",
    "5 + 5   # => 10\n",
    "7 - 2   # => 5\n",
    "3 * 4   # => 12\n",
    "24 / 3  # => 8.0 (standard division always results in a float)\n",
    "\n",
    "30 // 4 # => 7 (integer division)\n",
    "30 % 4  # => 2 (the modulo operator, which gives the remainder)\n",
    "-30 % 4 # => 2 (modulo also works for negative numbers)\n",
    "\n",
    "2**4    # => 16 (exponentiation)\n",
    "\n",
    "type(123), type(2.6), type(4 + 6j) # allows you to check the type of number you have"
   ]
  },
  {
   "cell_type": "code",
   "execution_count": null,
   "metadata": {},
   "outputs": [],
   "source": [
    "# what is going on here? blame IEEE 754\n",
    "\n",
    "0.1 + 0.2"
   ]
  },
  {
   "attachments": {},
   "cell_type": "markdown",
   "metadata": {},
   "source": [
    "It's important to remember that Python is not always perfect for calculations!"
   ]
  },
  {
   "cell_type": "markdown",
   "metadata": {},
   "source": [
    "(If you want to go on a long tangent on IEEE 754 and the representation of floating-point numbers in binary, there is an [interesting video](https://www.youtube.com/watch?v=p8u_k2LIZyo) on YouTube by Nemean on the implementation of a fast inverse square root algorithm in the game, Quake III, dating from before most modern computers had dedicated CPU instructions for the operation.)"
   ]
  },
  {
   "cell_type": "markdown",
   "metadata": {},
   "source": [
    "### Boolean Values\n",
    "\n",
    "Booleans (named after the English mathematician George Boole) are truth values that are either `True` or `False` (note the capitalisation)."
   ]
  },
  {
   "cell_type": "code",
   "execution_count": null,
   "metadata": {},
   "outputs": [],
   "source": [
    "True\n",
    "False\n",
    "\n",
    "not True        # => False\n",
    "not False       # => True\n",
    "\n",
    "True and True   # => True\n",
    "True and False  # => False\n",
    "False and True  # => False\n",
    "False and False # => False\n",
    "\n",
    "True or True    # => True\n",
    "True or False   # => True\n",
    "False or True   # => True\n",
    "False or False  # => False\n",
    "\n",
    "4 == 4          # => True (checking for value equality)\n",
    "3 == 7          # => False\n",
    "1 != 5          # => True (checking for value inequality)\n",
    "\n",
    "1 < 2           # => True (less than)\n",
    "5 <= 5          # => True (less than or equal to)\n",
    "6 > 3           # => True (greater than)\n",
    "7 >= 8          # => False (greater than or equal to)\n",
    "\n",
    "1 < 2 < 3       # => True (these can be chained in Python, unlike other languages!)\n",
    "\n",
    "type(True), type(not False) \n"
   ]
  },
  {
   "cell_type": "code",
   "execution_count": null,
   "metadata": {},
   "outputs": [],
   "source": [
    "type(True), type(False), type(not True) # bool for Boolean"
   ]
  },
  {
   "attachments": {},
   "cell_type": "markdown",
   "metadata": {},
   "source": [
    "An error is printed out if a boolean is not capitalised. This is because Python reads \"true\" as a variable instead of a boolean. _(More on that later.)_"
   ]
  },
  {
   "cell_type": "markdown",
   "metadata": {},
   "source": [
    "### Strings"
   ]
  },
  {
   "cell_type": "code",
   "execution_count": null,
   "metadata": {},
   "outputs": [],
   "source": [
    "\"Strings of characters look like this in Python.\"\n",
    "\n",
    "'You can also use single quotes if you prefer.' \n",
    "\n",
    "\"Typical Python style guides suggest you stick to double quotes!\"\n",
    "\n",
    "\"\"\" There are also\n",
    "    multi-line strings. \"\"\"\n",
    "\n",
    "''' You can also create multi-line strings\n",
    "    with single quotes, although this is fairly\n",
    "    uncommon to be honest. '''\n",
    "\n",
    "\n",
    "\"If you want to include a double quote in a string, you need to escape it with a backslash like \\\"this\\\" or use a string enclosed with single quotes.\"\n",
    "\n",
    "'The same thing applies if you want to include a \\' character within a single-quoted string.'\n",
    "\n",
    "\"This means if you want to include a single backslash, you need to escape that too with a backslash in the following way: \\\\.\"\n",
    "\n",
    "\"You can also add new lines (\\n on modern macOS & Linux, \\r\\n on Windows) and tabs (\\t) using escape characters.\"\n",
    "\n",
    "type(\"Hello, world!\") "
   ]
  },
  {
   "cell_type": "code",
   "execution_count": null,
   "metadata": {},
   "outputs": [],
   "source": [
    "# Strings can be concatenated\n",
    "\n",
    "\"Hello, \" + \"world!\""
   ]
  },
  {
   "attachments": {},
   "cell_type": "markdown",
   "metadata": {},
   "source": [
    "Concatenating objects of different types causes an error!"
   ]
  },
  {
   "cell_type": "code",
   "execution_count": null,
   "metadata": {},
   "outputs": [],
   "source": [
    "# len(·) can be used to find the length of a string\n",
    "\n",
    "len(\"Hello, world!\")"
   ]
  },
  {
   "attachments": {},
   "cell_type": "markdown",
   "metadata": {},
   "source": [
    "You can check the presence of a string within another string (usually useful for large strings or values containing strings that change).\n",
    "\n",
    "A Boolean is returned. It's important to understand the type of what's returned so you can use it later on. "
   ]
  },
  {
   "cell_type": "code",
   "execution_count": null,
   "metadata": {},
   "outputs": [],
   "source": [
    "\"world\" in \"Hello, world!\""
   ]
  },
  {
   "cell_type": "code",
   "execution_count": null,
   "metadata": {},
   "outputs": [],
   "source": [
    "\"Goodbye\" in \"Hello, world!\""
   ]
  },
  {
   "cell_type": "code",
   "execution_count": null,
   "metadata": {},
   "outputs": [],
   "source": [
    "\"Goodbye\" not in \"Hello, world!\""
   ]
  },
  {
   "attachments": {},
   "cell_type": "markdown",
   "metadata": {},
   "source": [
    "Strings, like most things in Python, are objects, so they have a number of methods you can call.\n",
    "\n",
    "> – What is an object?!\n",
    ">\n",
    "> – The formal definition is: \"Objects are an instance of a class\".\n",
    ">\n",
    "> – That's gibberish... Please explain further 😭\n",
    "\n",
    "Take a group of things, like different ingredients to make paella. You need a specific type of rice ('arroz bomba'), fish or meat, broth, onion, saffron, etc. All of these ingredients are objects within the class 'Paella Recipe'. \n",
    "\n",
    "It's easier to view a class like a group of things, in which you find objects. The methods are the functions (_i.e._, the actions) that you apply to these objects. "
   ]
  },
  {
   "cell_type": "code",
   "execution_count": null,
   "metadata": {},
   "outputs": [],
   "source": [
    "\"hello\".upper()"
   ]
  },
  {
   "cell_type": "code",
   "execution_count": null,
   "metadata": {},
   "outputs": [],
   "source": [
    "\"HELLO\".lower()"
   ]
  },
  {
   "cell_type": "code",
   "execution_count": null,
   "metadata": {},
   "outputs": [],
   "source": [
    "\"hEllO, woRlD!\".capitalize()"
   ]
  },
  {
   "cell_type": "code",
   "execution_count": null,
   "metadata": {},
   "outputs": [],
   "source": [
    "\"Hello, world!\".replace(\"world\", \"Jeremy and Ferran\")"
   ]
  },
  {
   "cell_type": "markdown",
   "metadata": {},
   "source": [
    "### An Aside on Variables\n",
    "\n",
    "In Python, variables are symbolic names (labels) that reference objects. The act of setting a variable to a particular value is known as **assignment**. There is no separate declaration step as in other languages."
   ]
  },
  {
   "cell_type": "code",
   "execution_count": null,
   "metadata": {},
   "outputs": [],
   "source": [
    "number = 123\n",
    "string = \"Hello, world!\"\n",
    "\n",
    "name = \"Jeremy\"\n",
    "\n",
    "# Format strings allow us to insert the string representation\n",
    "# of an object within a string.\n",
    "\n",
    "f\"Hello, {name}!\""
   ]
  },
  {
   "attachments": {},
   "cell_type": "markdown",
   "metadata": {},
   "source": [
    "General rules in Python for variable names:\n",
    "1. Variables START with a letter or an underscore (NOT A NUMBER)\n",
    "2. Ideally, use all lowercase characters\n",
    "3. You absolutely can use numbers within the variable name (just not at the start)\n",
    "4. Variable names are case-sensitive. This means the variables `age` and `Age` are not the same!\n",
    "5. For multiple word variable names, use underscores. _E.g._, `intro_to_python`"
   ]
  },
  {
   "cell_type": "code",
   "execution_count": null,
   "metadata": {},
   "outputs": [],
   "source": [
    "age = 19\n",
    "Age = 21\n",
    "\n",
    "# Check if the values of age and Age are equal\n",
    "age == Age\n",
    "\n",
    "# Why are their values different? Because age and Age are not the same variable"
   ]
  },
  {
   "cell_type": "code",
   "execution_count": null,
   "metadata": {},
   "outputs": [],
   "source": [
    "# Let's add the two ages together\n",
    "total_age = age + Age\n",
    "\n",
    "total_age"
   ]
  },
  {
   "cell_type": "code",
   "execution_count": null,
   "metadata": {},
   "outputs": [],
   "source": [
    "# Now, let's add 3 to that age\n",
    "total_age = total_age + 3\n",
    "\n",
    "total_age"
   ]
  },
  {
   "attachments": {},
   "cell_type": "markdown",
   "metadata": {},
   "source": [
    "Writing `total_age = total_age + 3` is a bit verbose. We can make our code a bit simpler by using shorthand assignment operators (see below).\n",
    "\n",
    "Although not always comfortable at first, it's pretty fun to use, and is a great way of keeping your code clean!"
   ]
  },
  {
   "cell_type": "code",
   "execution_count": null,
   "metadata": {},
   "outputs": [],
   "source": [
    "# Python has some shorthand assignment operators\n",
    "\n",
    "x = 1\n",
    "\n",
    "x += 6      # x = x + 6     => x == 7\n",
    "x -= 1      # x = x - 1     => x == 6         \n",
    "x *= 2      # x = x * 2     => x == 12\n",
    "x /= 3      # x = x / 3     => x == 4.0\n",
    "x //= 3     # x = x // 3    => x == 1.0\n",
    "x += 10     # x = x + 10    => x == 11.0\n",
    "x %= 4      # x = x % 4     => x == 3.0\n",
    "\n",
    "x"
   ]
  },
  {
   "attachments": {},
   "cell_type": "markdown",
   "metadata": {},
   "source": [
    "### None\n",
    "\n",
    "`None` is keyword in Python that signifies that there is no value there -- it is the encapsulation of emptiness, totally devoid of meaning."
   ]
  },
  {
   "cell_type": "code",
   "execution_count": null,
   "metadata": {},
   "outputs": [],
   "source": [
    "value = None        # nothing to see here!"
   ]
  },
  {
   "cell_type": "code",
   "execution_count": null,
   "metadata": {},
   "outputs": [],
   "source": [
    "type(value) # it still has a type though!"
   ]
  },
  {
   "attachments": {},
   "cell_type": "markdown",
   "metadata": {},
   "source": [
    "The Romans would be proud. In Ancient Rome, _res_ meant nothing as well as everything, or something. That's because everything is also nothing, and nothing certainly is something.\n",
    "\n",
    "_Something_ to think about..."
   ]
  },
  {
   "attachments": {},
   "cell_type": "markdown",
   "metadata": {},
   "source": [
    "## Collections\n",
    "\n",
    "Collections are types that are used for containing other types! Python has several general-purpose built-in container types, such as **lists, tuples, sets and dictionaries**. More complex collections -- such as queues, deques, ordered dictionaries and so on -- are available through modules in the **standard library** included with every Python installation."
   ]
  },
  {
   "attachments": {},
   "cell_type": "markdown",
   "metadata": {},
   "source": [
    "We will focus on the most useful types for the DOXATHON: lists, tuples, and dictionaries."
   ]
  },
  {
   "cell_type": "code",
   "execution_count": null,
   "metadata": {},
   "outputs": [],
   "source": [
    "fruit = [\"apple\", \"banana\", \"cherry\", \"dragon fruit\", \"elderberry\", \"fig\", \"guava\"]\n",
    "\n",
    "fruit"
   ]
  },
  {
   "cell_type": "code",
   "execution_count": null,
   "metadata": {},
   "outputs": [],
   "source": [
    "# you can find the length of a list with len(·)\n",
    "\n",
    "len(fruit)\n",
    "\n",
    "# notice it returns the length of the list (contained within the variable 'fruit')"
   ]
  },
  {
   "cell_type": "code",
   "execution_count": null,
   "metadata": {},
   "outputs": [],
   "source": [
    "# lists are 'subscriptable', so you can index into them\n",
    "# Python lists are zero-indexed, so list indices start from zero\n",
    "\n",
    "fruit[0]"
   ]
  },
  {
   "attachments": {},
   "cell_type": "markdown",
   "metadata": {},
   "source": [
    "When counting in Python, we always start at zero: 0, 1, 2, 3, 4, 5, 6, 7, _ad infinitum._"
   ]
  },
  {
   "cell_type": "code",
   "execution_count": null,
   "metadata": {},
   "outputs": [],
   "source": [
    "# negative indices let you retrieve values relative to the end of the list\n",
    "\n",
    "fruit[-1]"
   ]
  },
  {
   "cell_type": "code",
   "execution_count": null,
   "metadata": {},
   "outputs": [],
   "source": [
    "# you can also select slices of a list\n",
    "\n",
    "fruit[2:4]      # the starting index is inclusive, but the ending index is exclusive"
   ]
  },
  {
   "cell_type": "code",
   "execution_count": null,
   "metadata": {},
   "outputs": [],
   "source": [
    "# you can omit a starting or ending point to expand to the start or end of the list\n",
    "\n",
    "fruit[1:]"
   ]
  },
  {
   "cell_type": "code",
   "execution_count": null,
   "metadata": {},
   "outputs": [],
   "source": [
    "fruit[:4]"
   ]
  },
  {
   "cell_type": "code",
   "execution_count": null,
   "metadata": {},
   "outputs": [],
   "source": [
    "# you can also provide a step! (e.g. to skip certain elements)\n",
    "\n",
    "fruit[::2]"
   ]
  },
  {
   "cell_type": "code",
   "execution_count": null,
   "metadata": {},
   "outputs": [],
   "source": [
    "fruit[1:6:2]"
   ]
  },
  {
   "cell_type": "code",
   "execution_count": null,
   "metadata": {},
   "outputs": [],
   "source": [
    "# in case you were wondering, yes -- you can use this to reverse lists!\n",
    "\n",
    "fruit[::-1]"
   ]
  },
  {
   "cell_type": "code",
   "execution_count": null,
   "metadata": {},
   "outputs": [],
   "source": [
    "# it is also a useful hack for creating soft copies of lists...\n",
    "\n",
    "fruit[:]"
   ]
  },
  {
   "cell_type": "code",
   "execution_count": null,
   "metadata": {},
   "outputs": [],
   "source": [
    "# you can also append to lists\n",
    "\n",
    "fruit.append(\"honeydew melon\")\n",
    "\n",
    "fruit"
   ]
  },
  {
   "cell_type": "code",
   "execution_count": null,
   "metadata": {},
   "outputs": [],
   "source": [
    "# and pop from the end...\n",
    "\n",
    "fruit.pop()\n",
    "\n",
    "fruit"
   ]
  },
  {
   "cell_type": "code",
   "execution_count": null,
   "metadata": {},
   "outputs": [],
   "source": [
    "# or anywhere really!\n",
    "\n",
    "dragon_fruit = fruit.pop(3)    # sorry, dragon fruit\n",
    "\n",
    "dragon_fruit, fruit"
   ]
  },
  {
   "cell_type": "code",
   "execution_count": null,
   "metadata": {},
   "outputs": [],
   "source": [
    "# you can also find the index of the first list item matching some value\n",
    "\n",
    "fruit.index(\"banana\")"
   ]
  },
  {
   "cell_type": "code",
   "execution_count": null,
   "metadata": {},
   "outputs": [],
   "source": [
    "# and remove the first list item matching some value\n",
    "\n",
    "fruit.remove(\"guava\")   # sorry, guava\n",
    "\n",
    "fruit"
   ]
  },
  {
   "cell_type": "code",
   "execution_count": null,
   "metadata": {},
   "outputs": [],
   "source": [
    "# lists can be concatenated together\n",
    "\n",
    "[1, 2, 3] + [4, 5, 6]"
   ]
  },
  {
   "cell_type": "code",
   "execution_count": null,
   "metadata": {},
   "outputs": [],
   "source": [
    "# you can also 'extend' one list with the values of another\n",
    "\n",
    "list_1 = [1, 2, 3, 4]\n",
    "list_2 = [5, 6, 7, 8]\n",
    "\n",
    "list_1.extend(list_2)\n",
    "\n",
    "list_1"
   ]
  },
  {
   "cell_type": "code",
   "execution_count": null,
   "metadata": {},
   "outputs": [],
   "source": [
    "# You'll notice list_2 stays the same\n",
    "\n",
    "list_2"
   ]
  },
  {
   "cell_type": "code",
   "execution_count": null,
   "metadata": {},
   "outputs": [],
   "source": [
    "# you can also check whether or not a value is in a list with 'in'\n",
    "\n",
    "\"apple\" in fruit"
   ]
  },
  {
   "cell_type": "code",
   "execution_count": null,
   "metadata": {},
   "outputs": [],
   "source": [
    "# you can 'unpack' list values (the tuples are implicit here)\n",
    "\n",
    "a, b, *c, d = fruit\n",
    "\n",
    "a, b, c, d"
   ]
  },
  {
   "cell_type": "code",
   "execution_count": null,
   "metadata": {},
   "outputs": [],
   "source": [
    "# by the way, trailing commas are allowed when creating lists\n",
    "\n",
    "long_list = [\n",
    "    1,\n",
    "    2,\n",
    "    3,\n",
    "    4,\n",
    "    5,\n",
    "    6,\n",
    "    7,\n",
    "    8,\n",
    "    9,\n",
    "    10, # <--- the 'trailing' comma\n",
    "]\n",
    "\n",
    "long_list"
   ]
  },
  {
   "cell_type": "code",
   "execution_count": null,
   "metadata": {},
   "outputs": [],
   "source": [
    "# aside: python also has an 'is' operator, which checks whether \n",
    "# two things are the same 'object', not just the same value as with ==\n",
    "\n",
    "(\n",
    "    [1, 2, 3] == [1, 2, 3], # => True\n",
    "    [1, 2, 3] is [1, 2, 3], # => False\n",
    ")"
   ]
  },
  {
   "attachments": {},
   "cell_type": "markdown",
   "metadata": {},
   "source": [
    "Two different objects may be equal by value, but they're different objects. 🤯 "
   ]
  },
  {
   "attachments": {},
   "cell_type": "markdown",
   "metadata": {},
   "source": [
    "### Tuples\n",
    "\n",
    "Tuples are finite, immutable, ordered sequences of elements. Once a tuple is created, elements cannot be appended, removed or modified. Instead, a new tuple needs to be created."
   ]
  },
  {
   "cell_type": "code",
   "execution_count": null,
   "metadata": {},
   "outputs": [],
   "source": [
    "# tuples look like this\n",
    "\n",
    "()              # an empty tuple (or unit/null tuple)\n",
    "(1,)            # a 1-tuple (or monuple)\n",
    "(1, 3)          # a 2-tuple (or couple / ordered pair)\n",
    "(1, 3, 5)       # a 3-tuple (or triple)\n",
    "(1, 3, 5, 7)    # a 4-tuple (or quadruple)\n",
    "(1, 3, 5, 7, 9) # a 5-tuple (or quintuple)\n",
    "\n",
    "type(())"
   ]
  },
  {
   "cell_type": "code",
   "execution_count": null,
   "metadata": {},
   "outputs": [],
   "source": [
    "# a lot of the same list operations also work on tuples\n",
    "\n",
    "numbers = (1, 2, 3, 4, 5, 6, 7, 8)\n",
    "\n",
    "# for example\n",
    "numbers[2:]     # => (3, 4, 5, 6, 7, 8)\n",
    "\n",
    "a, b, *c = numbers\n",
    "\n",
    "a, b, c         # wait, did you notice that? an implicit tuple!\n"
   ]
  },
  {
   "cell_type": "code",
   "execution_count": null,
   "metadata": {},
   "outputs": [],
   "source": [
    "# unpacking can be useful for swapping variables in one go\n",
    "\n",
    "x = 5\n",
    "y = 7\n",
    "\n",
    "y, x = x, y\n",
    "\n",
    "f\"x = {x}, y = {y}\""
   ]
  },
  {
   "cell_type": "markdown",
   "metadata": {},
   "source": [
    "### Dictionaries\n",
    "\n",
    "Dictionaries are key-value maps, where each key uniquely maps to a single value."
   ]
  },
  {
   "cell_type": "code",
   "execution_count": null,
   "metadata": {},
   "outputs": [],
   "source": [
    "empty_dict = {}\n",
    "\n",
    "type(empty_dict)"
   ]
  },
  {
   "cell_type": "code",
   "execution_count": null,
   "metadata": {},
   "outputs": [],
   "source": [
    "student = {\n",
    "    \"name\" : \"Jeremy\",\n",
    "    \"age\" : 21,\n",
    "    \"degree\" : \"MEng Computer Science\",\n",
    "    \"ethnicity\" : \"look, it's complicated, okay?\"\n",
    "}\n",
    "\n",
    "# you can index into dictionaries just as you can with lists\n",
    "student[\"name\"]"
   ]
  },
  {
   "cell_type": "code",
   "execution_count": null,
   "metadata": {},
   "outputs": [],
   "source": [
    "# you can check if an item is present within a dictionary using 'in'\n",
    "\n",
    "\"name\" in student"
   ]
  },
  {
   "cell_type": "code",
   "execution_count": null,
   "metadata": {},
   "outputs": [],
   "source": [
    "# if you would rather return a default value, use .get\n",
    "\n",
    "student.get(\"university\", \"UCL: London's Global University™, or something like that\")\n",
    "\n",
    "# oh yeah, Python supports unicode, so special symbols & emoji won't break things (too much...)! 😀"
   ]
  },
  {
   "cell_type": "code",
   "execution_count": null,
   "metadata": {},
   "outputs": [],
   "source": [
    "# dictionaries can only have immutable, hashable types as keys\n",
    "# this means tuples are fine, but lists are not!\n",
    "\n",
    "player_positions = {\n",
    "    (1, 2): \"blue\",\n",
    "    (4, 6): \"red\",          # trailing commas are allowed!\n",
    "}"
   ]
  },
  {
   "attachments": {},
   "cell_type": "markdown",
   "metadata": {},
   "source": [
    "The importance of immutable keys. If a dictionary key is mutable, you're dictionary collapses! How are you ever going to find the right value if your key changes?\n",
    "\n",
    "This means that you can change the values in a dictionary, but not change the key to a value. It also means that each key in a dictionary is unique, whereas you can have the same value, for different keys."
   ]
  },
  {
   "cell_type": "code",
   "execution_count": null,
   "metadata": {},
   "outputs": [],
   "source": [
    "# use .keys() to get the keys of a dictionary\n",
    "\n",
    "student.keys()"
   ]
  },
  {
   "cell_type": "code",
   "execution_count": null,
   "metadata": {},
   "outputs": [],
   "source": [
    "# likewise, use .values() to get only the values\n",
    "\n",
    "student.values()"
   ]
  },
  {
   "cell_type": "code",
   "execution_count": null,
   "metadata": {},
   "outputs": [],
   "source": [
    "# dictionaries can also be updated with the values from other dictionaries\n",
    "\n",
    "student.update({\n",
    "    \"languages\": [\"English\", \"French\"],\n",
    "    \"favourite_colour\": \"Blue\"\n",
    "})\n",
    "\n",
    "student"
   ]
  },
  {
   "cell_type": "code",
   "execution_count": null,
   "metadata": {},
   "outputs": [],
   "source": [
    "# items can be removed from dictionaries with del\n",
    "\n",
    "del student[\"ethnicity\"]\n",
    "\n",
    "student"
   ]
  },
  {
   "cell_type": "code",
   "execution_count": null,
   "metadata": {},
   "outputs": [],
   "source": [
    "# you can also 'unpack' dictionaries into other dictionaries\n",
    "\n",
    "{\n",
    "    \"foo\": 1,\n",
    "    \"bar\": 2,\n",
    "    **{\n",
    "        \"baz\": 3,\n",
    "        \"bux\": 4,\n",
    "    }\n",
    "}"
   ]
  },
  {
   "cell_type": "markdown",
   "metadata": {},
   "source": [
    "## Print statements\n",
    "\n",
    "Before we progress, it would be rude not to introduce the `print()` function! [Read more in the docs](https://docs.python.org/3/library/functions.html#print)."
   ]
  },
  {
   "cell_type": "code",
   "execution_count": null,
   "metadata": {},
   "outputs": [],
   "source": [
    "print(\"Hello, world!\")          # glad we got that one out the way!"
   ]
  },
  {
   "cell_type": "code",
   "execution_count": null,
   "metadata": {},
   "outputs": [],
   "source": [
    "# print(·) has plenty of useful arguments you can explore\n",
    "\n",
    "print(\"a\", \"b\", \"c\", \"d\", sep=\" | \", end=\" !\\n\")"
   ]
  },
  {
   "cell_type": "markdown",
   "metadata": {},
   "source": [
    "## Control Flow\n",
    "\n",
    "### Conditional statements\n",
    "\n",
    "The infamous 'if-statement' is used for executing different pieces of code based on some Boolean value.\n"
   ]
  },
  {
   "cell_type": "code",
   "execution_count": null,
   "metadata": {},
   "outputs": [],
   "source": [
    "if 1 < 2:\n",
    "    print(\"Wow, 1 < 2.\")\n",
    "\n",
    "if \"apple\" in fruit:\n",
    "    print(\"Apples are recognised as a type of fruit.\")\n",
    "elif \"banana\" in fruit:\n",
    "    print(\"Well, apples might no longer be fruit for some reason, but at least we have bananas.\")\n",
    "else:\n",
    "    print(\"Goodness, just HOW will we cope without apples and bananas?\")"
   ]
  },
  {
   "attachments": {},
   "cell_type": "markdown",
   "metadata": {},
   "source": [
    "Indentation is **really** important in Python! By convention, blocks are indented with four spaces -- not tabs (however much you or I may love tabs)."
   ]
  },
  {
   "cell_type": "markdown",
   "metadata": {},
   "source": [
    "### For loops\n",
    "\n",
    "For loops provide a way of iterating over some **iterable**. It is possible to iterate over many of the types we have already discussed, such as the characters of a string, the items of a list and the keys of a dictionary."
   ]
  },
  {
   "cell_type": "code",
   "execution_count": null,
   "metadata": {},
   "outputs": [],
   "source": [
    "for character in \"Hello\":\n",
    "    print(character)\n",
    "\n",
    "print()\n",
    "\n",
    "for item in [1, 2, 3, 4]:\n",
    "    print(item)\n",
    "\n",
    "print()\n",
    "\n",
    "dictionary = { \"a\": 1, \"b\": 2 }\n",
    "for key in dictionary:\n",
    "    print(key, dictionary[key])"
   ]
  },
  {
   "cell_type": "code",
   "execution_count": null,
   "metadata": {},
   "outputs": [],
   "source": [
    "# it is arguably more \"Pythonic\" to iterate over dictionaries \n",
    "# in the following way instead using .items():\n",
    "\n",
    "for key, value in dictionary.items():\n",
    "    print(key, value)"
   ]
  },
  {
   "attachments": {},
   "cell_type": "markdown",
   "metadata": {},
   "source": [
    "Next up, enumeration. This is super useful when trying to sort out data, or when you create more complicated algorithms that require access to information at different levels. "
   ]
  },
  {
   "cell_type": "code",
   "execution_count": null,
   "metadata": {},
   "outputs": [],
   "source": [
    "# you can also iterate over the enumeration of a list\n",
    "\n",
    "for index, value in enumerate(fruit):\n",
    "    print(index, value)"
   ]
  },
  {
   "cell_type": "code",
   "execution_count": null,
   "metadata": {},
   "outputs": [],
   "source": [
    "# if you have two lists and want to iterate over them both in parallel, use zip(·, ·)\n",
    "# it will terminate after at least one of the lists gets exhausted\n",
    "# you can zip as many iterables as you want together!\n",
    "\n",
    "for a, b in zip([1, 2, 3, 4], [5, 6, 7, 8, 9]): \n",
    "    print(a, b)"
   ]
  },
  {
   "cell_type": "markdown",
   "metadata": {},
   "source": [
    "As we've just hinted at, you can iterate over way more than just basic types. **Generators** are special iterators that yield values that may be looped over. One common such generator is `range([start,] end)` (or with a step, `range(start, end, step)`)."
   ]
  },
  {
   "cell_type": "code",
   "execution_count": null,
   "metadata": {},
   "outputs": [],
   "source": [
    "for i in range(5):      # note that the endpoint is exclusive so you do get 5 numbers!\n",
    "    print(i, end=\" \")"
   ]
  },
  {
   "cell_type": "code",
   "execution_count": null,
   "metadata": {},
   "outputs": [],
   "source": [
    "for i in range(1, 5):\n",
    "    print(i, end=\" \")"
   ]
  },
  {
   "cell_type": "code",
   "execution_count": null,
   "metadata": {},
   "outputs": [],
   "source": [
    "for i in range(0, 10, 2):\n",
    "    print(i, end=\" \")"
   ]
  },
  {
   "attachments": {},
   "cell_type": "markdown",
   "metadata": {},
   "source": [
    "### While loops\n",
    "\n",
    "As in other languages, Python also has while loops."
   ]
  },
  {
   "cell_type": "code",
   "execution_count": null,
   "metadata": {},
   "outputs": [],
   "source": [
    "i = 0\n",
    "while i < 10:\n",
    "    print(i)\n",
    "    i += 1\n",
    "\n",
    "# yes, `while True:` would loop forever!"
   ]
  },
  {
   "attachments": {},
   "cell_type": "markdown",
   "metadata": {},
   "source": [
    "## Comprehensions\n",
    "\n",
    "Python also has the idea of list comprehensions and dictionary comprehensions. Comprehensions are intimately related with the ideas of maps and filters from functional programming.\n",
    "\n",
    "Note: there are no tuple comprehensions; they instead result in in-line generators."
   ]
  },
  {
   "cell_type": "code",
   "execution_count": null,
   "metadata": {},
   "outputs": [],
   "source": [
    "names = [\"jeremy\", \"aliff\", \"filip\", \"yuwei\", \"luke\", \"ferran\"]\n",
    "\n",
    "[name.capitalize() for name in names]"
   ]
  },
  {
   "cell_type": "code",
   "execution_count": null,
   "metadata": {},
   "outputs": [],
   "source": [
    "# you can also add filters to list comprehensions\n",
    "\n",
    "[name.upper() for name in names if 'e' in name]"
   ]
  },
  {
   "cell_type": "code",
   "execution_count": null,
   "metadata": {},
   "outputs": [],
   "source": [
    "# you can also iterate over multiple iterables at once\n",
    "[\n",
    "    (x, y)\n",
    "    for x in range(5)\n",
    "    for y in range(5)\n",
    "    if x != y\n",
    "]"
   ]
  },
  {
   "cell_type": "code",
   "execution_count": null,
   "metadata": {},
   "outputs": [],
   "source": [
    "# likewise, there are also dictionary comprehensions\n",
    "\n",
    "# by convention in Python, variables usually take 'snake_case'\n",
    "name_lengths = { name.upper(): len(name) for name in names }\n",
    "\n",
    "name_lengths"
   ]
  },
  {
   "cell_type": "code",
   "execution_count": null,
   "metadata": {},
   "outputs": [],
   "source": [
    "# a more daunting dictionary comprehension\n",
    "# let's say you want to flatten a list of dictionaries\n",
    "\n",
    "# Generate list of dictionaries containing a movie and its release date\n",
    "movies = [\n",
    "    {\"Fight Club\": 1999},\n",
    "    {\"When Harry Met Sally\": 1989},\n",
    "    {\"Spirited Away\": 2001},\n",
    "]\n",
    "\n",
    "# Flatten list of dictionary\n",
    "flattened_movies = {\n",
    "    title: year for dictionary in movies for title, year in dictionary.items()\n",
    "}\n",
    "\n",
    "# Print flattened dictionary\n",
    "print(flattened_movies)"
   ]
  },
  {
   "cell_type": "markdown",
   "metadata": {},
   "source": [
    "### Exceptions\n",
    "\n",
    "Exceptions are the primary way of error handling in Python, allowing you to explicitly deal with 'exceptions' to the normal execution flow of your code."
   ]
  },
  {
   "cell_type": "code",
   "execution_count": null,
   "metadata": {},
   "outputs": [],
   "source": [
    "try:\n",
    "    raise ValueError(\"something terrible!\")\n",
    "except ValueError as e:\n",
    "    print(f\"Oh no, an exception arose due to {str(e)}\")"
   ]
  },
  {
   "cell_type": "code",
   "execution_count": null,
   "metadata": {},
   "outputs": [],
   "source": [
    "# 'except' branches can be chained\n",
    "\n",
    "try:\n",
    "    # do some complex operation\n",
    "    10 / 0\n",
    "except ValueError:\n",
    "    print(\"Ooops, it was a value error.\")\n",
    "except IndexError:\n",
    "    print(\"Or was it an index error?\")\n",
    "except ZeroDivisionError:\n",
    "    print(\"Nahhh, it was a zero division error!\")\n",
    "except:\n",
    "    print(\"This will be a catch all if none of the other branches above run.\")\n",
    "finally:\n",
    "    print(\"'Finally' blocks always run, whether or not there is an exception.\")"
   ]
  },
  {
   "cell_type": "markdown",
   "metadata": {},
   "source": [
    "### Functions\n",
    "\n",
    "We have seen a few built-in functions so far, such as `print` and `len`, but we can actually define our own."
   ]
  },
  {
   "cell_type": "markdown",
   "metadata": {},
   "source": [
    "#### Built-in Functions\n",
    "\n",
    "By default, Python has a selection of built-in functions you can use without having to import anything. We have already talked about a few of these, and it is worth taking the time to investigate what they do! Python has some [excellent documentation](https://docs.python.org/3/library/functions.html), and learning how to read documentation is an important skill.\n",
    "\n",
    "\n",
    "```\n",
    "abs(), aiter(), all(), any(), anext(), ascii(), bin(), bool(), breakpoint(), bytearray(), bytes(), callable(), chr(), classmethod(), compile(), complex(), delattr(), dict(), dir(), divmod(), enumerate(), eval(), exec(), filter(), float(), format(), frozenset(), getattr(), globals(), hasattr(), hash(), help(), hex(), id(), input(), int(), isinstance(), issubclass(), iter(), L, len(), list(), locals(), map(), max(), memoryview(), min(), next(), object(), oct(), open(), ord(), pow(), print(), property(), range(), repr(), reversed(), round(), set(), setattr(), slice(), sorted(), staticmethod(), str(), sum(), super(), tuple(), type(), vars(), zip()\n",
    "```\n",
    "\n",
    "You can also import functions from other modules. Python is fortunate to have a large standard library!"
   ]
  },
  {
   "cell_type": "code",
   "execution_count": null,
   "metadata": {},
   "outputs": [],
   "source": [
    "import math\n",
    "\n",
    "math.sqrt(25)"
   ]
  },
  {
   "attachments": {},
   "cell_type": "markdown",
   "metadata": {},
   "source": [
    "If, when you import a library (like math), you don't want to repeat \"math\" every single time, you could do the following:"
   ]
  },
  {
   "cell_type": "code",
   "execution_count": null,
   "metadata": {},
   "outputs": [],
   "source": [
    "# this is unnecessary for a short library like math, but it's useful for \n",
    "# libraries with excessively longer names (like tensorflow, which we usually import as tf)\n",
    "\n",
    "import math as mt\n",
    "\n",
    "mt.sqrt(275)"
   ]
  },
  {
   "cell_type": "code",
   "execution_count": null,
   "metadata": {},
   "outputs": [],
   "source": [
    "from random import randint, randrange, choice, random\n",
    "\n",
    "print(randint(0, 10))   # the start and end points are INCLUSIVE\n",
    "print(randrange(0, 10)) # the start point is INCLUSIVE, but the endpoint is EXCLUSIVE like range()\n",
    "print(choice(fruit))    # selects a random fruit\n",
    "print(random())         # generate a float in [0.0, 1.0)\n"
   ]
  },
  {
   "attachments": {},
   "cell_type": "markdown",
   "metadata": {},
   "source": [
    "**Importantly**, when in doubt, just check the Python documentation, or look up the function / library online. There are tonnes of resources."
   ]
  },
  {
   "attachments": {},
   "cell_type": "markdown",
   "metadata": {},
   "source": [
    "#### **User-defined Functions** (a very important part of any programmer's life!)"
   ]
  },
  {
   "cell_type": "code",
   "execution_count": null,
   "metadata": {},
   "outputs": [],
   "source": [
    "def add(x, y):\n",
    "    return x + y\n",
    "\n",
    "add(1, 2)"
   ]
  },
  {
   "cell_type": "code",
   "execution_count": null,
   "metadata": {},
   "outputs": [],
   "source": [
    "# Python is very flexible with respect to argument order \n",
    "# if you are explicit enough about what you want to do!\n",
    "# if you don't specify, Python will assume\n",
    "\n",
    "add(y=2, x=1)"
   ]
  },
  {
   "cell_type": "code",
   "execution_count": null,
   "metadata": {},
   "outputs": [],
   "source": [
    "# it is possible to specify default values\n",
    "\n",
    "def greet(name=\"Ferran\"):\n",
    "    print(f\"Hello, {name}!\")\n",
    "\n",
    "greet()\n",
    "greet(\"Jeremy\")"
   ]
  },
  {
   "cell_type": "markdown",
   "metadata": {},
   "source": [
    "As another quick aside, one important idea in _software engineering_ is the **single-responsibility principle** (SRP) that functions, classes, modules and so on should have one clear responsibility. This is related to two other principles: **don't repeat yourself** (DRY) and **keep it simple, stupid** (KISS -- no, not the rock band)!\n",
    "\n",
    "You do not have to follow these principles religiously, but they can go a long way to helping you write cleaner code.\n",
    "\n",
    "In practice, if you have a function that performs some intensive computation and then outputs the result, you might want to consider splitting that up into a function that performs the computation and another that handles how it is displayed and formatted. By decoupling these two operations from each other, this then makes code to perform the original computation much more reusable and the program a bit more maintainable!"
   ]
  },
  {
   "cell_type": "code",
   "execution_count": null,
   "metadata": {},
   "outputs": [],
   "source": [
    "# BEWARE: it is best not to set default values to objects -- the same objects get reused every time!\n",
    "\n",
    "def be_careful(items=[]):\n",
    "    items.append(\"foo\")\n",
    "    return items\n",
    "\n",
    "print(be_careful())\n",
    "print(be_careful())\n",
    "print(be_careful())\n",
    "\n",
    "# this probably isn't the behaviour you expect!"
   ]
  },
  {
   "cell_type": "code",
   "execution_count": null,
   "metadata": {},
   "outputs": [],
   "source": [
    "# if the behaviour you want is for it to always return ['foo'] in the case, \n",
    "# you probably want to do something more along these lines\n",
    "\n",
    "def be_a_bit_more_careful(items=None):\n",
    "    if items is None:\n",
    "        items = []\n",
    "\n",
    "    items.append(\"foo\")\n",
    "    \n",
    "    return items\n",
    "\n",
    "print(be_a_bit_more_careful())\n",
    "print(be_a_bit_more_careful())\n",
    "print(be_a_bit_more_careful())"
   ]
  },
  {
   "cell_type": "code",
   "execution_count": null,
   "metadata": {},
   "outputs": [],
   "source": [
    "# we can also specify type annotations\n",
    "\n",
    "def shout(message: str):\n",
    "    print(message.upper())\n",
    "\n",
    "shout(\"hey can i interest you in some web3 blockchain machine learning techno-- *whack*\")"
   ]
  },
  {
   "cell_type": "code",
   "execution_count": null,
   "metadata": {},
   "outputs": [],
   "source": [
    "# you can be very precise with your type annotations if you want!\n",
    "\n",
    "from typing import List\n",
    "\n",
    "\n",
    "def square_floats(numbers: List[float]) -> List[float]:\n",
    "    return [number**2 for number in numbers]\n",
    "\n",
    "square_floats([3.5, 7.3, 9.99, 1.0])"
   ]
  },
  {
   "attachments": {},
   "cell_type": "markdown",
   "metadata": {},
   "source": [
    "**Recursion** is a technique that lets you define a function in terms of itself."
   ]
  },
  {
   "cell_type": "code",
   "execution_count": null,
   "metadata": {},
   "outputs": [],
   "source": [
    "def factorial(n: int):\n",
    "    if n <= 1:\n",
    "        return 1\n",
    "    else:\n",
    "        return n * factorial(n - 1)\n",
    "\n",
    "factorial(5)"
   ]
  },
  {
   "cell_type": "code",
   "execution_count": null,
   "metadata": {},
   "outputs": [],
   "source": [
    "# Note: while recursion has its place, there is often a more efficient\n",
    "# solution that uses plain iteration (and therefore avoids the risk of\n",
    "# a call 'stack overflow')\n",
    "\n",
    "def factorial(n: int) -> int:\n",
    "    value = 1\n",
    "    for i in range(2, n + 1):\n",
    "        value *= i\n",
    "    return value\n",
    "\n",
    "factorial(5)"
   ]
  },
  {
   "cell_type": "markdown",
   "metadata": {},
   "source": [
    "## Classes\n",
    "\n",
    "Python has first-class support for object-oriented programming. Classes are ways of creating a new _type_ of complex object of which instances may be instantiated. They are typically named using Pascal case, i.e. `ClassName` starting with an uppercase letter with no underscores, not `className` or `class_name`.\n",
    "\n",
    "Instance objects may have data attributes (that store data within the object), as well as methods (that allow certain actions to be performed).\n",
    "\n",
    "We have actually already seen classes: exceptions, such as `ValueError`, are classes that contain useful data attributes and helper methods."
   ]
  },
  {
   "cell_type": "code",
   "execution_count": null,
   "metadata": {},
   "outputs": [],
   "source": [
    "class Person:\n",
    "    def is_a_robot(self):\n",
    "        return False\n",
    "\n",
    "class Student(Person):  # Student will inherit from Person\n",
    "    def __init__(self, name, age, degree, year) -> None:\n",
    "        # this is known as the constructor and runs\n",
    "        # when an instance of this class is instantiated\n",
    "\n",
    "        self.name = name\n",
    "        self.age = age\n",
    "        self.degree = degree\n",
    "        self.year = year\n",
    "\n",
    "    def get_introduction(self):\n",
    "        return f\"{self.name} (aged {self.age}) is currently in Year {self.year} of studying towards the following degree: {self.degree}.\"\n",
    "\n",
    "\n",
    "# here we create objects, where we store the information (it automatically fills the init function)\n",
    "# once we assign variables with these objects, we can use the variables! \n",
    "\n",
    "jeremy = Student(\"Jeremy\", 21, \"MEng Computer Science\", 4)\n",
    "ferran = Student(\"Ferran\", 19, \"MSci Neuroscience\", 2)\n",
    "\n",
    "print(jeremy.get_introduction())\n",
    "print(ferran.get_introduction())"
   ]
  },
  {
   "cell_type": "code",
   "execution_count": null,
   "metadata": {},
   "outputs": [],
   "source": [
    "# this method comes from the Person class!\n",
    "if jeremy.is_a_robot():\n",
    "    print(\"Ooops, I've been lying to those reCAPTCHAs all this time!\")\n",
    "else:\n",
    "    print(\"Nahhh, this guy's definitely a human.\")"
   ]
  },
  {
   "cell_type": "markdown",
   "metadata": {},
   "source": [
    "Unfortunately, we are running out of time to go into classes into much more detail, but I would encourage you to read the [incredibly thorough documentation](https://docs.python.org/3/tutorial/classes.html)!"
   ]
  },
  {
   "cell_type": "markdown",
   "metadata": {},
   "source": [
    "# Thank you!\n",
    "\n",
    "Thank you so much for following this part of the tutorial. There is a lot of material here to digest, but you've absolutely got this!\n",
    "\n",
    "Take your time to go through the examples and experiment. In fact, you can create and edit your own code blocks in this very Jupyter notebook and experiment alongside the examples we have included! The best way to learn and internalise all this information is to put it into practice.\n",
    "\n",
    "If you are hungry to learn more about software engineering, reach out to us! In the meantime, you might want to look into some other coding principles that are important to writing clean code, such as defining clean **interfaces** between layers of our applications, the ideas of **abstraction** and **encapsulation**, and so on.\n",
    "\n",
    "Writing production-ready software can be a complex process, involving stages such as the following:\n",
    "- understanding users' requirements (possibly thinking about both functional and non-functional requirements using the MoSCoW method);\n",
    "- designing and architecting a solution (what are the different components of your system? how do they interact and scale?);\n",
    "- user interface and experience design;\n",
    "- implementation (what technologies are the right tool to solve this problem? how can you write code that is easy to maintain, test and validate the correctness of?);\n",
    "- testing (unit testing, integration testing & end-to-end testing);\n",
    "- debugging (fixing parts of the codebase that do not work as intended);\n",
    "- static analysis (can we find and correct errors in our code at build-time?);\n",
    "- and so on.\n",
    "\n",
    "Understandably, you might wish to jump straight into learning about the latest and greatest machine learning models (as you will be able to in our upcoming tutorials!), but spending the time now to get a _solid_ foundation in Python and and perhaps ideas from software engineering more broadly can be a fulfilling way of setting yourself up to tackle larger challenges.\n",
    "\n",
    "If you want to learn more about computer science, an excellent introduction is Harvard's [CS50](https://www.edx.org/cs50). They also have a 10-week course that focuses specifically on teaching Python, [CS50P](https://www.edx.org/course/cs50s-introduction-to-programming-with-python), rather than on computer science more broadly."
   ]
  }
 ],
 "metadata": {
  "kernelspec": {
   "display_name": "Python 3",
   "language": "python",
   "name": "python3"
  },
  "language_info": {
   "codemirror_mode": {
    "name": "ipython",
    "version": 3
   },
   "file_extension": ".py",
   "mimetype": "text/x-python",
   "name": "python",
   "nbconvert_exporter": "python",
   "pygments_lexer": "ipython3",
   "version": "3.10.5"
  },
  "orig_nbformat": 4,
  "vscode": {
   "interpreter": {
    "hash": "aee8b7b246df8f9039afb4144a1f6fd8d2ca17a180786b69acc140d282b71a49"
   }
  }
 },
 "nbformat": 4,
 "nbformat_minor": 2
}
