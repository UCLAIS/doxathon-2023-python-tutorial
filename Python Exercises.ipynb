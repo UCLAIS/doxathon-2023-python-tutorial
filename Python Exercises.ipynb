{
 "cells": [
  {
   "attachments": {},
   "cell_type": "markdown",
   "metadata": {},
   "source": [
    "# UCLAIS Python Tutorial: An introduction to Python\n",
    "##### _Exercise Notebook_\n",
    "\n"
   ]
  },
  {
   "attachments": {},
   "cell_type": "markdown",
   "metadata": {},
   "source": [
    "EXERCISES:\n",
    "\n",
    "PART 1\n",
    "- numbers and operators \n",
    "- incrementing operators and using shortcuts\n",
    "- creating functions and understanding outputs\n",
    "- use control flow (for and while loops)\n",
    "- recursion (fibonacci) vs non-recursive solution\n",
    "- list comprehensions\n",
    "- use of min/max (including the key parameter for more advanced situations)\n",
    "- dictionaries \n",
    "- make a set\n",
    "- create a class\n",
    "\n",
    "DONE!\n",
    "\n",
    "------------\n",
    "\n",
    "TO DO: \n",
    "\n",
    "PART 2\n",
    "- enums -> introduced through tetris example"
   ]
  },
  {
   "attachments": {},
   "cell_type": "markdown",
   "metadata": {},
   "source": [
    "## Part 1: Practice what you learned\n",
    "\n",
    "### Numbers and Operators"
   ]
  },
  {
   "attachments": {},
   "cell_type": "markdown",
   "metadata": {},
   "source": [
    "Write the following mathematical formula in Python:\n",
    "\n",
    "$$result = 9a^4 - \\dfrac{56b^2}{3c + 2} + 13$$"
   ]
  },
  {
   "cell_type": "code",
   "execution_count": null,
   "metadata": {},
   "outputs": [],
   "source": [
    "a = 3\n",
    "b = 3\n",
    "c = 12"
   ]
  },
  {
   "cell_type": "code",
   "execution_count": null,
   "metadata": {},
   "outputs": [],
   "source": [
    "# your formula here:\n",
    "\n",
    "result = "
   ]
  },
  {
   "cell_type": "code",
   "execution_count": null,
   "metadata": {},
   "outputs": [],
   "source": [
    "assert round(result) == 729"
   ]
  },
  {
   "attachments": {},
   "cell_type": "markdown",
   "metadata": {},
   "source": [
    "Find the remainder when dividing 367 by 53"
   ]
  },
  {
   "cell_type": "code",
   "execution_count": null,
   "metadata": {},
   "outputs": [],
   "source": [
    "# your calculation here:\n",
    "\n",
    "remainder = "
   ]
  },
  {
   "cell_type": "code",
   "execution_count": null,
   "metadata": {},
   "outputs": [],
   "source": [
    "assert remainder == 49"
   ]
  },
  {
   "attachments": {},
   "cell_type": "markdown",
   "metadata": {},
   "source": [
    "Rewrite the following value assignments in shorthand"
   ]
  },
  {
   "cell_type": "code",
   "execution_count": null,
   "metadata": {},
   "outputs": [],
   "source": [
    "variable = 17\n",
    "\n",
    "# rewrite in shorthand the following assignments:\n",
    "\n",
    "variable = variable + 5\n",
    "variable = variable * 76\n",
    "variable = variable - 7\n",
    "variable = variable + 23\n",
    "variable = variable / 12\n",
    "variable = variable // 36"
   ]
  },
  {
   "cell_type": "code",
   "execution_count": null,
   "metadata": {},
   "outputs": [],
   "source": [
    "assert variable == 3"
   ]
  },
  {
   "attachments": {},
   "cell_type": "markdown",
   "metadata": {},
   "source": [
    "### Functions and Outputs"
   ]
  },
  {
   "attachments": {},
   "cell_type": "markdown",
   "metadata": {},
   "source": [
    "Fill in the gaps (`____`) in the function `odd_numbers` in order to pass the assertions. Assume that the `list_of_numbers` argument is a list of integers."
   ]
  },
  {
   "cell_type": "code",
   "execution_count": null,
   "metadata": {},
   "outputs": [],
   "source": [
    "____ odd_numbers(list_of_numbers):\n",
    "    count = 0\n",
    "    for num in ____:\n",
    "        if ____ % 2 != ____:\n",
    "            count += ____\n",
    "    _____ _____"
   ]
  },
  {
   "cell_type": "code",
   "execution_count": null,
   "metadata": {},
   "outputs": [],
   "source": [
    "assert odd_numbers([1, 2, 3, 4, 5, 6]) == 3\n",
    "assert odd_numbers([1, 3, 5, 7]) == 4\n",
    "assert odd_numbers([-2, 2, -10, 8]) == 0"
   ]
  },
  {
   "attachments": {},
   "cell_type": "markdown",
   "metadata": {},
   "source": [
    "Implement the `bucket_list` function which takes a list of activities (strings) as argument. The function should return a list of activities which are in the `TICKED_OFF_LIST` and in the activities list given as argument to the function."
   ]
  },
  {
   "cell_type": "code",
   "execution_count": null,
   "metadata": {},
   "outputs": [],
   "source": [
    "# activities ticked off the bucket list\n",
    "\n",
    "TICKED_OFF_LIST = [\"Skydiving\", \"Run a marathon\", \"Visit Japan\"]"
   ]
  },
  {
   "cell_type": "code",
   "execution_count": null,
   "metadata": {},
   "outputs": [],
   "source": [
    "# your implementation here:\n",
    "\n",
    "def bucket_list(activities_list):\n",
    "    ..."
   ]
  },
  {
   "cell_type": "code",
   "execution_count": null,
   "metadata": {},
   "outputs": [],
   "source": [
    "activities_to_check_1 = [\"Run a marathon\", \"Learn to draw\", \"Visit Japan\", \"Meet Miranda Hart\"]\n",
    "activities_done_1 = bucket_list(activities_to_check_1)\n",
    "assert len(activities_done_1) == 2\n",
    "assert \"Run a marathon\" in activities_done_1\n",
    "assert \"Visit Japant\" in activities_done_1\n",
    "\n",
    "activities_to_check_2 = [\"Fly a kite\", \"Ride a horse in Mongolia\", \"Learn to make sushi\"]\n",
    "activities_done_2 = bucket_list(activities_to_check_2)\n",
    "assert activities_done_2 == []"
   ]
  },
  {
   "attachments": {},
   "cell_type": "markdown",
   "metadata": {},
   "source": [
    "Write a function to find the maximum number witin a tuple of numbers (hint: see what the in-built `max()` function does)."
   ]
  },
  {
   "cell_type": "code",
   "execution_count": null,
   "metadata": {},
   "outputs": [],
   "source": [
    "# your implementation:\n",
    "\n",
    "def find_maximum_number(numbers_tuple):\n",
    "    ..."
   ]
  },
  {
   "cell_type": "code",
   "execution_count": null,
   "metadata": {},
   "outputs": [],
   "source": [
    "assert find_maximum_number((5, 67, 89, -222, 10, 4583, 555.2)) == 4583\n",
    "assert find_maximum_number((43, -55.2, 12, -3.2, 76, -90, 12, 23, 45)) == 76"
   ]
  },
  {
   "attachments": {},
   "cell_type": "markdown",
   "metadata": {},
   "source": [
    "Defined below is the function `xyz`. What do you think this function returns when given the dictionary `instagram_records`? Write the output in `what_i_think`, and don't forget what type of objects you are dealing with!"
   ]
  },
  {
   "cell_type": "code",
   "execution_count": null,
   "metadata": {},
   "outputs": [],
   "source": [
    "# the function:\n",
    "\n",
    "def xyz(dictionary_input):\n",
    "\n",
    "    super_accounts = []\n",
    "\n",
    "    for account, followers in dictionary_input.items():\n",
    "        if followers > 5000000:\n",
    "            super_accounts.append(account)\n",
    "\n",
    "    return super_accounts\n",
    "\n",
    "# the dictionary:\n",
    "\n",
    "instagram_records = {\n",
    "    \"Kendall Jenner\": 278000000,\n",
    "    \"SZA\": 15600000,\n",
    "    \"Jerry Seinfeld\": 1300000,\n",
    "    \"Miranda Hart\": 906000,\n",
    "    \"The Economist\": 6100000,\n",
    "    \"L'Impératrice\": 156000,\n",
    "}"
   ]
  },
  {
   "cell_type": "code",
   "execution_count": null,
   "metadata": {},
   "outputs": [],
   "source": [
    "# what do you think will be returned?\n",
    "\n",
    "what_i_think = "
   ]
  },
  {
   "cell_type": "code",
   "execution_count": null,
   "metadata": {},
   "outputs": [],
   "source": [
    "assert what_i_think == xyz(instagram_records)"
   ]
  },
  {
   "attachments": {},
   "cell_type": "markdown",
   "metadata": {},
   "source": [
    "### Control Flow (for and while) and Conditionals"
   ]
  },
  {
   "attachments": {},
   "cell_type": "markdown",
   "metadata": {},
   "source": [
    "Convert a list of numbers into a list of strings based on the following rules:\n",
    "- if the number is greater than twenty, it is \"large\"\n",
    "- if the number is less than twenty, it is \"small\"\n",
    "- if the number is odd, it is \"odd\"\n",
    "- if the number is even, it is \"even\"\n",
    "\n",
    "The number 23 is \"large odd\", whereas 4 is \"small even\"."
   ]
  },
  {
   "cell_type": "code",
   "execution_count": null,
   "metadata": {},
   "outputs": [],
   "source": [
    "numbers_list = [5, 78, 3, 45, 67, 222, 34, 2, 44, 55, 90, 78]"
   ]
  },
  {
   "cell_type": "code",
   "execution_count": null,
   "metadata": {},
   "outputs": [],
   "source": [
    "# your implementation\n",
    "\n",
    "... \n",
    "\n",
    "my_list = "
   ]
  },
  {
   "cell_type": "code",
   "execution_count": null,
   "metadata": {},
   "outputs": [],
   "source": [
    "assert my_list == [\n",
    "    \"small odd\", \"large even\", \"small odd\", \"large odd\", \"large odd\", \"large even\", \"large even\", \n",
    "    \"small even\", \"large even\", \"large odd\", \"large even\", \"large even\"\n",
    "    ]"
   ]
  },
  {
   "attachments": {},
   "cell_type": "markdown",
   "metadata": {},
   "source": [
    "Let's output the first 15 numbers in the Fibonacci sequence, using a `while` loop. To do this, complete the programme below."
   ]
  },
  {
   "cell_type": "code",
   "execution_count": null,
   "metadata": {},
   "outputs": [],
   "source": [
    "# complete this code!\n",
    "\n",
    "series_length = 15\n",
    "\n",
    "a = 0\n",
    "b = 1\n",
    "sum = ...\n",
    "count = ...\n",
    "\n",
    "while count ... :\n",
    "    ...\n",
    "    print(a, end=\" \")\n",
    "    ...\n",
    "    ...\n",
    "    ..."
   ]
  },
  {
   "attachments": {},
   "cell_type": "markdown",
   "metadata": {},
   "source": [
    "### Recursion\n",
    "\n",
    "Let's create a Fibonacci sequence again, but this time, using a recursive function. "
   ]
  },
  {
   "cell_type": "code",
   "execution_count": null,
   "metadata": {},
   "outputs": [],
   "source": [
    "# complete this function\n",
    "\n",
    "def fibonacci_sequence(number):\n",
    "    ...\n",
    "\n",
    "length = 13\n",
    "\n",
    "for i in length:\n",
    "    print(fibonacci_sequence(i), end=\" \")"
   ]
  },
  {
   "attachments": {},
   "cell_type": "markdown",
   "metadata": {},
   "source": [
    "### List and Dictionary Comprehensions"
   ]
  },
  {
   "attachments": {},
   "cell_type": "markdown",
   "metadata": {},
   "source": [
    "You are given a list of numbers (integers and floats). Using a list comprehension, create a new list called `integers` containing only the integers from the original list of numbers. "
   ]
  },
  {
   "cell_type": "code",
   "execution_count": null,
   "metadata": {},
   "outputs": [],
   "source": [
    "numbers = [12, 3.4, 66, 7.8, 44.8, 9.1, 6, 3, 55, 89.23, 999, 76, 5, 43, 22.1, 44]"
   ]
  },
  {
   "cell_type": "code",
   "execution_count": null,
   "metadata": {},
   "outputs": [],
   "source": [
    "# your implementation here, within the straight brackets\n",
    "\n",
    "integers = [ ... ]"
   ]
  },
  {
   "cell_type": "code",
   "execution_count": null,
   "metadata": {},
   "outputs": [],
   "source": [
    "assert integers == [12, 66, 6, 3, 55, 999, 76, 5, 43, 44]"
   ]
  },
  {
   "attachments": {},
   "cell_type": "markdown",
   "metadata": {},
   "source": [
    "Now, create a list (using list comprehensions) that contains all the numbers from 1 to 1000 that have the digit 3 in them. "
   ]
  },
  {
   "cell_type": "code",
   "execution_count": null,
   "metadata": {},
   "outputs": [],
   "source": [
    "numbers_with_3 = [ ... ]"
   ]
  },
  {
   "attachments": {},
   "cell_type": "markdown",
   "metadata": {},
   "source": [
    "Create a dictionary (using dictionary comprehensions) that maps each unique fruit in a list to the number of times it was mentioned in said list. \n",
    "\n",
    "Top tip: remember the different properties of lists, dictionaries, and sets. You can use these to your advantage in your solution. \n",
    "Top tip 2: a list can be turned into a set."
   ]
  },
  {
   "cell_type": "code",
   "execution_count": null,
   "metadata": {},
   "outputs": [],
   "source": [
    "fruits = [\n",
    "    \"apple\", \"blueberry\", \"cherry\", \"apple\", \"pear\", \"guava\", \"pear\", \"blueberry\", \"guava\", \n",
    "    \"blueberry\", \"apple\", \"cherry\", \"watermelon\", \"cherry\", \"cherry\", \"apple\", \"blueberry\", \n",
    "    \"cherry\", \"pear\", \"melon\", \"blueberry\"\n",
    "]"
   ]
  },
  {
   "cell_type": "code",
   "execution_count": null,
   "metadata": {},
   "outputs": [],
   "source": [
    "# your dictionary comprehension here:\n",
    "\n",
    "fruits_dictionary = {\n",
    "    ...\n",
    "}"
   ]
  },
  {
   "attachments": {},
   "cell_type": "markdown",
   "metadata": {},
   "source": [
    "### Dictionaries and Sets"
   ]
  },
  {
   "attachments": {},
   "cell_type": "markdown",
   "metadata": {},
   "source": [
    "From the string of matches and results below, create a dictionary where each key is a country, and each value is the number of goals scored per country. \n",
    "\n",
    "For example: \"France,England,5,2\" means that France scored 5 goals and England scored 2 goals. "
   ]
  },
  {
   "cell_type": "code",
   "execution_count": null,
   "metadata": {},
   "outputs": [],
   "source": [
    "matches = \"\"\"France,England,5,2\n",
    "Spain,Poland,3,2\n",
    "France,Italy,2,0\n",
    "England,Spain,1,3\n",
    "Germany,England,1,1\n",
    "\"\"\"\n",
    "\n",
    "scores = {}\n",
    "\n",
    "for line in matches.split(...):\n",
    "    ...\n",
    "\n",
    "# steps to solve this exercise:\n",
    "\n",
    "# step 1: split the string per line, and then within each line, per country and score\n",
    "# step 2: check if the countries are already in the scores dictionary; if not, add them to it\n",
    "# step 3: for each country, add the goals recorded in that line\n",
    "\n",
    "# this process must be iterative; use a for loop"
   ]
  },
  {
   "cell_type": "code",
   "execution_count": null,
   "metadata": {},
   "outputs": [],
   "source": [
    "correct_scores = {\n",
    "    \"France\": 7,\n",
    "    \"England\": 4,\n",
    "    \"Spain\": 6,\n",
    "    \"Poland\": 2,\n",
    "    \"Italy\": 0,\n",
    "    \"Germany\": 1\n",
    "}\n",
    "\n",
    "assert scores == correct_scores"
   ]
  },
  {
   "attachments": {},
   "cell_type": "markdown",
   "metadata": {},
   "source": [
    "Sets have some interesting properties. Each element within a set is unique, and two different sets can be compared to find where they overlap, and where they don't. \n",
    "\n",
    "Sets can be compared using:\n",
    "- `intersection()`: returns the intersection between two sets as a set\n",
    "- `union()`: returns the union of sets as a set\n",
    "- `difference()`: returns the difference between two sets as a set\n",
    "\n",
    "Check out how they work below!"
   ]
  },
  {
   "cell_type": "code",
   "execution_count": null,
   "metadata": {},
   "outputs": [],
   "source": [
    "set1 = {3, 56, 7, 8}\n",
    "set2 = {4, 5, 6, 8}\n",
    "\n",
    "print(set1.intersection(set2))\n",
    "print(set2.intersection(set1))\n",
    "\n",
    "print(set1.union(set2))\n",
    "print(set2.union(set1))\n",
    "\n",
    "print(set1.difference(set2))\n",
    "print(set2.difference(set1))"
   ]
  },
  {
   "attachments": {},
   "cell_type": "markdown",
   "metadata": {},
   "source": [
    "Two sets of genes are being studied for their involvement in Schizophrenia and Bipolar disorder. Both bipolar disorder are known to cause psychosis (to different extents), and some researchers want to see if there is any possible overlap between the two disorders from a genetic perspective. \n",
    "\n",
    "Help the scientists identify which genes are found to be involved in both disorders. \n",
    "\n",
    "Sources: \n",
    "- [Kegg Genes Database](https://www.genome.jp/kegg/genes.html)\n",
    "- [Specific genes involved in schizophrenia identified for the first time](https://www.ucl.ac.uk/news/2022/apr/specific-genes-involved-schizophrenia-identified-first-time)\n",
    "- [Genetics of bipolar disorder](https://www.ncbi.nlm.nih.gov/pmc/articles/PMC3966627/)\n",
    "\n",
    "Warning: the list below is a compilation of a couple different genes. The mechanisms of these disorders remain unclear, and it is not known how involved they may or may not be. "
   ]
  },
  {
   "cell_type": "code",
   "execution_count": null,
   "metadata": {},
   "outputs": [],
   "source": [
    "risk_genes_schizophrenia = {\"AKAP11\", \"NRXN1\", \"SHANK3\", \"AKT1\", \"PRODH\", \"DRD3\"}\n",
    "risk_genes_bipolar = {\"AKAP11\", \"XBP1\", \"CACNA1C\", \"ODZ4\", \"NCAN\"}"
   ]
  },
  {
   "cell_type": "code",
   "execution_count": null,
   "metadata": {},
   "outputs": [],
   "source": [
    "# Which genes are found in both sets?\n",
    "\n",
    "genes_in_both = "
   ]
  },
  {
   "attachments": {},
   "cell_type": "markdown",
   "metadata": {},
   "source": [
    "### Using min() and max()"
   ]
  },
  {
   "attachments": {},
   "cell_type": "markdown",
   "metadata": {},
   "source": [
    "You have been asked to process the data in a dictionary containing Wikipedia article names. You need to return the article with the longest introductory paragraph. \n",
    "\n",
    "Use the `key` parameter. It may also be useful to create your own function (or use a lambda function if you're willing to research it and experiment)."
   ]
  },
  {
   "cell_type": "code",
   "execution_count": null,
   "metadata": {},
   "outputs": [],
   "source": [
    "wiki_articles = {\n",
    "    \"Wikipedia\": \"Wikipedia[note 3] is a multilingual free online encyclopedia written and maintained by a community of volunteers, known as Wikipedians, through open collaboration and using a wiki-based editing system called MediaWiki. Wikipedia is the largest and most-read reference work in history.[3] It is consistently one of the 10 most popular websites ranked by Similarweb and formerly Alexa; as of 2022, Wikipedia was ranked the 5th most popular site in the world.[4] It is hosted by the Wikimedia Foundation, an American non-profit organization funded mainly through donations.[5]\",\n",
    "    \"Portugal\": \"Portugal (Portuguese pronunciation: [puɾtuˈɣal]), officially the Portuguese Republic (Portuguese: República Portuguesa [ʁɛˈpuβlikɐ puɾtuˈɣezɐ]),[note 4] is a country located on the Iberian Peninsula, in southwestern Europe, and whose territory also includes the Atlantic archipelagos of the Azores and Madeira. It features the westernmost point in continental Europe, and its Iberian portion is bordered to the west and south by the Atlantic Ocean and to the north and east by Spain, the sole country to have a land border with Portugal. Its two archipelagos form two autonomous regions with their own regional governments. Lisbon is the capital and largest city by population.\",\n",
    "    \"Frank Sinatra\": \"Francis Albert Sinatra (/sɪˈnɑːtrə/; December 12, 1915 – May 14, 1998) was an American singer and actor. Nicknamed the 'Chairman of the Board' and later called \\\"Ol' Blue Eyes\\\", Sinatra was one of the most popular entertainers of the 1940s, 1950s, and 1960s. He is among the world's best-selling music artists with an estimated 150 million record sales.[1][2]\",\n",
    "    \"Growth Hormone-Releasing Hormone\": \"Growth hormone-releasing hormone (GHRH), also known as somatocrinin or by several other names in its endogenous forms and as somatorelin (INN) in its pharmaceutical form, is a releasing hormone of growth hormone (GH). It is a 44[1]-amino acid peptide hormone produced in the arcuate nucleus of the hypothalamus.\",\n",
    "    \"Beyoncé\": \"Beyoncé Giselle Knowles-Carter (/biˈɒnseɪ/ (listen) bee-ON-say;[4] born September 4, 1981)[5] is an American singer, songwriter, actress, and dancer. Beyoncé has been noted for her boundary-pushing artistry and her vocal ability.[6] Her success has made her a cultural icon and earned her the nickname \\\"Queen Bey\\\".[7]\",\n",
    "    \"Everything Everywhere All at Once\": \"Everything Everywhere All at Once is a 2022 American absurdist comedy-drama film written and directed by Daniel Kwan and Daniel Scheinert (collectively known as Daniels), who produced it with Anthony and Joe Russo. The plot centers on a Chinese-American immigrant played by Michelle Yeoh who, while being audited by the IRS, discovers that she must connect with parallel universe versions of herself to prevent a powerful being from destroying the multiverse. Stephanie Hsu, Ke Huy Quan, Jenny Slate, Harry Shum Jr., James Hong, and Jamie Lee Curtis appear in supporting roles. The New York Times called the film a \\\"swirl of genre anarchy\\\" with elements of surreal comedy, science fiction, fantasy, martial arts films, and animation.\"\n",
    "}"
   ]
  },
  {
   "cell_type": "code",
   "execution_count": null,
   "metadata": {},
   "outputs": [],
   "source": [
    "longest_intro_article = max( ... )"
   ]
  },
  {
   "attachments": {},
   "cell_type": "markdown",
   "metadata": {},
   "source": [
    "Now, using the same dictionary of Wikipedia articles, find the article with the smallest incidence of the letter \"a\" in the introductory paragraph (irrespective of capitalisation).\n",
    "\n",
    "Use the key parameter, and define a function to help you sort through the data."
   ]
  },
  {
   "cell_type": "code",
   "execution_count": null,
   "metadata": {},
   "outputs": [],
   "source": [
    "def incidence_of_a(...):\n",
    "    ...\n",
    "\n",
    "smallest_incidence_of_a = min(wiki_articles, key = ...)"
   ]
  },
  {
   "cell_type": "code",
   "execution_count": null,
   "metadata": {},
   "outputs": [],
   "source": [
    "assert smallest_incidence_of_a == \"Beyoncé\""
   ]
  },
  {
   "attachments": {},
   "cell_type": "markdown",
   "metadata": {},
   "source": [
    "### Classes"
   ]
  },
  {
   "attachments": {},
   "cell_type": "markdown",
   "metadata": {},
   "source": [
    "You have been tasked with creating a class to create animal characters for a video game. Each animal must have a name, an age, a weight, a super power, and a fatal flaw. Optionally, each animal can also have a short description that explains why it is unique. \n",
    "\n",
    "Create this class by completing the following code. "
   ]
  },
  {
   "cell_type": "code",
   "execution_count": null,
   "metadata": {},
   "outputs": [],
   "source": [
    "class Animals:\n",
    "\n",
    "    def __init__(self, name, age, weight, super_power, fatal_flaw):\n",
    "        ...\n",
    "\n",
    "    def __str__(self):\n",
    "        return f\"\"\"Hi, my name is {...}. I am {...} years old. My super power is: {...}. My fatal flaw is: {...}\"\"\"\n",
    "    \n",
    "    def description(self, characteristics):\n",
    "        ...\n",
    "        print(\"Yay! Thanks for the description.\")"
   ]
  },
  {
   "cell_type": "code",
   "execution_count": null,
   "metadata": {},
   "outputs": [],
   "source": [
    "rhino = Animals(\"Rhino\", 3, 43, \"Charge\", \"Butterflies\")\n",
    "\n",
    "assert rhino == \"Hi, my name is Rhino. I am 3 years old. My super power is: Charge. My fatal flaw is: Butterflies.\"\n",
    "\n",
    "rhino.description(\"The kindest little thing in the world.\")\n",
    "\n",
    "assert rhino.characteristics == \"The kindest little thing in the world.\""
   ]
  },
  {
   "attachments": {},
   "cell_type": "markdown",
   "metadata": {},
   "source": [
    "Now, go back to where you define your class, and create some more functions. For example, the animal characters could have fighting modes, or could say things like \"It's a beautiful day in paradise\". \n",
    "\n",
    "Basically, have fun with it, test it out, and enjoy creating a world of your own. "
   ]
  },
  {
   "attachments": {},
   "cell_type": "markdown",
   "metadata": {},
   "source": [
    "## Part 2: Preparing for the DOXATHON"
   ]
  }
 ],
 "metadata": {
  "kernelspec": {
   "display_name": "Python 3",
   "language": "python",
   "name": "python3"
  },
  "language_info": {
   "codemirror_mode": {
    "name": "ipython",
    "version": 3
   },
   "file_extension": ".py",
   "mimetype": "text/x-python",
   "name": "python",
   "nbconvert_exporter": "python",
   "pygments_lexer": "ipython3",
   "version": "3.10.5"
  },
  "orig_nbformat": 4,
  "vscode": {
   "interpreter": {
    "hash": "aee8b7b246df8f9039afb4144a1f6fd8d2ca17a180786b69acc140d282b71a49"
   }
  }
 },
 "nbformat": 4,
 "nbformat_minor": 2
}
